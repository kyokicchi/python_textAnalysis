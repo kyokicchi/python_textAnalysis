{
  "nbformat": 4,
  "nbformat_minor": 0,
  "metadata": {
    "colab": {
      "name": "textAnalysis.ipynb",
      "version": "0.3.2",
      "provenance": [],
      "collapsed_sections": [],
      "include_colab_link": true
    },
    "kernelspec": {
      "name": "python3",
      "display_name": "Python 3"
    }
  },
  "cells": [
    {
      "cell_type": "markdown",
      "metadata": {
        "id": "view-in-github",
        "colab_type": "text"
      },
      "source": [
        "[View in Colaboratory](https://colab.research.google.com/github/kyokicchi/python_textAnalysis/blob/master/textAnalysis.ipynb)"
      ]
    },
    {
      "metadata": {
        "id": "gnFeSDg4CamF",
        "colab_type": "code",
        "colab": {
          "base_uri": "https://localhost:8080/",
          "height": 170
        },
        "outputId": "dd035c14-a01f-4cee-e78e-29a5387c9cbf"
      },
      "cell_type": "code",
      "source": [
        "!pip install pyquery"
      ],
      "execution_count": 3,
      "outputs": [
        {
          "output_type": "stream",
          "text": [
            "Collecting pyquery\n",
            "  Downloading https://files.pythonhosted.org/packages/09/c7/ce8c9c37ab8ff8337faad3335c088d60bed4a35a4bed33a64f0e64fbcf29/pyquery-1.4.0-py2.py3-none-any.whl\n",
            "Collecting lxml>=2.1 (from pyquery)\n",
            "\u001b[?25l  Downloading https://files.pythonhosted.org/packages/eb/59/1db3c9c27049e4f832691c6d642df1f5b64763f73942172c44fee22de397/lxml-4.2.4-cp36-cp36m-manylinux1_x86_64.whl (5.8MB)\n",
            "\u001b[K    100% |████████████████████████████████| 5.8MB 2.8MB/s \n",
            "\u001b[?25hCollecting cssselect>0.7.9 (from pyquery)\n",
            "  Downloading https://files.pythonhosted.org/packages/7b/44/25b7283e50585f0b4156960691d951b05d061abf4a714078393e51929b30/cssselect-1.0.3-py2.py3-none-any.whl\n",
            "Installing collected packages: lxml, cssselect, pyquery\n",
            "Successfully installed cssselect-1.0.3 lxml-4.2.4 pyquery-1.4.0\n"
          ],
          "name": "stdout"
        }
      ]
    },
    {
      "metadata": {
        "id": "VChiUiA-BS5E",
        "colab_type": "code",
        "colab": {}
      },
      "cell_type": "code",
      "source": [
        "import urllib.request\n",
        "from pyquery import PyQuery as pq\n",
        "\n",
        "\n",
        "url = 'https://www.aozora.gr.jp/cards/000035/files/301_14912.html'\n",
        "with urllib.request.urlopen(url) as response:\n",
        "    html = response.read()\n",
        "query = pq(html,  parser='html')\n",
        "\n",
        "text = query(\".main_text\").text().replace('\\n', '')\n",
        "texts = text.split('。')\n",
        "texts = [text_+'\\n' for text_ in texts]\n",
        "\n",
        "with open('raw.txt', 'w', encoding='utf-8') as file:\n",
        "    file.writelines(texts)"
      ],
      "execution_count": 0,
      "outputs": []
    },
    {
      "metadata": {
        "id": "n8r3BqFUCslu",
        "colab_type": "code",
        "colab": {
          "base_uri": "https://localhost:8080/",
          "height": 122
        },
        "outputId": "da2fafca-5ebc-4211-b9b4-e017c4a945ef"
      },
      "cell_type": "code",
      "source": [
        "\n",
        "\n"
      ],
      "execution_count": 7,
      "outputs": [
        {
          "output_type": "stream",
          "text": [
            "はしがき私は、その男の写真を三葉、見たことがある\n",
            "一葉は、その男の、幼年時代、とでも言うべきであろうか、十歳前後かと推定される頃の写真であって、その子供が大勢の女のひとに取りかこまれ、（それは、その子供の姉たち、妹たち、それから、従姉妹（いとこ）たちかと想像される）庭園の池のほとりに、荒い縞の袴（はかま）をはいて立ち、首を三十度ほど左に傾け、醜く笑っている写真である\n",
            "醜く？　けれども、鈍い人たち（つまり、美醜などに関心を持たぬ人たち）は、面白くも何とも無いような顔をして、「可愛い坊ちゃんですね」といい加減なお世辞を言っても、まんざら空（から）お世辞に聞えないくらいの、謂（い）わば通俗の「可愛らしさ」みたいな影もその子供の笑顔に無いわけではないのだが、しかし、いささかでも、美醜に就いての訓練を経て来たひとなら、ひとめ見てすぐ、「なんて、いやな子供だ」と頗（すこぶ）る不快そうに呟（つぶや）き、毛虫でも払いのける時のような手つきで、その写真をほうり投げるかも知れない\n",
            "まったく、その子供の笑顔は、よく見れば見るほど、何とも知れず、イヤな薄気味悪いものが感ぜられて来る\n",
            "どだい、それは、笑顔でない\n"
          ],
          "name": "stdout"
        }
      ]
    },
    {
      "metadata": {
        "id": "j643QHs_7QxD",
        "colab_type": "code",
        "colab": {
          "base_uri": "https://localhost:8080/",
          "height": 170
        },
        "outputId": "b15403ac-b7d3-4ada-d8fa-f57d3f83151c"
      },
      "cell_type": "code",
      "source": [
        "!pip install janome"
      ],
      "execution_count": 9,
      "outputs": [
        {
          "output_type": "stream",
          "text": [
            "Collecting janome\n",
            "\u001b[?25l  Downloading https://files.pythonhosted.org/packages/b4/7b/6f4fa5243a235cd682693b448f05afacedb2b10fc2efea3369d6336ab83b/Janome-0.3.6.tar.gz (20.0MB)\n",
            "\u001b[K    100% |████████████████████████████████| 20.0MB 627kB/s \n",
            "\u001b[?25hBuilding wheels for collected packages: janome\n",
            "  Running setup.py bdist_wheel for janome ... \u001b[?25l-\b \b\\\b \b|\b \b/\b \b-\b \b\\\b \b|\b \b/\b \b-\b \b\\\b \b|\b \b/\b \b-\b \b\\\b \b|\b \b/\b \b-\b \b\\\b \b|\b \b/\b \b-\b \b\\\b \b|\b \b/\b \b-\b \b\\\b \b|\b \b/\b \b-\b \b\\\b \b|\b \b/\b \b-\b \b\\\b \b|\b \b/\b \b-\b \bdone\n",
            "\u001b[?25h  Stored in directory: /content/.cache/pip/wheels/53/60/be/fe884e2d0ebc9fec0988736cf08a2820ab34e3569fc0c5a25a\n",
            "Successfully built janome\n",
            "Installing collected packages: janome\n",
            "Successfully installed janome-0.3.6\n"
          ],
          "name": "stdout"
        }
      ]
    },
    {
      "metadata": {
        "id": "dDgBrmec6w4T",
        "colab_type": "code",
        "colab": {}
      },
      "cell_type": "code",
      "source": [
        "from janome.charfilter import *\n",
        "from janome.analyzer import Analyzer\n",
        "from janome.tokenizer import Tokenizer\n",
        "from janome.tokenfilter import *\n",
        "\n",
        "with open('raw.txt', 'r', encoding='utf-8') as file:\n",
        "    texts = file.readlines()\n",
        "texts = [text_.replace('\\n', '') for text_ in texts]\n",
        "\n",
        "\n",
        "char_filters = [UnicodeNormalizeCharFilter(),         # UnicodeをNFKC(デフォルト)で正規化\n",
        "                RegexReplaceCharFilter('\\(', ''),     # (を削除\n",
        "                RegexReplaceCharFilter('\\)', '')      # )を削除\n",
        "                ]\n",
        "\n",
        "# 単語に分割\n",
        "tokenizer = Tokenizer()\n",
        "\n",
        "\n",
        "#\n",
        "# 名詞中の数(漢数字を含む)を全て0に置き換えるTokenFilterの実装\n",
        "#\n",
        "class NumericReplaceFilter(TokenFilter):\n",
        "\n",
        "    def apply(self, tokens):\n",
        "        for token in tokens:\n",
        "            parts = token.part_of_speech.split(',')\n",
        "            if (parts[0] == '名詞' and parts[1] == '数'):\n",
        "                token.surface = '0'\n",
        "                token.base_form = '0'\n",
        "                token.reading = 'ゼロ'\n",
        "                token.phonetic = 'ゼロ'\n",
        "            yield token\n",
        "\n",
        "\n",
        "#\n",
        "#  ひらがな・カタガナ・英数字の一文字しか無い単語は削除\n",
        "#\n",
        "class OneCharacterReplaceFilter(TokenFilter):\n",
        "\n",
        "    def apply(self, tokens):\n",
        "        for token in tokens:\n",
        "            # 上記のルールの一文字制限で引っかかった場合、その単語を無視\n",
        "            if re.match('^[あ-んア-ンa-zA-Z0-9ー]$', token.surface):\n",
        "                continue\n",
        "\n",
        "            yield token\n",
        "\n",
        "\n",
        "# 単語に対する処理のまとめ\n",
        "token_filters = [NumericReplaceFilter(),                         # 名詞中の漢数字を含む数字を0に置換\n",
        "                 CompoundNounFilter(),                           # 名詞が連続する場合は複合名詞にする\n",
        "                 POSKeepFilter(['名詞', '動詞', '形容詞', '副詞']),# 名詞・動詞・形容詞・副詞のみを取得する\n",
        "                 LowerCaseFilter(),                              # 英字は小文字にする\n",
        "                 OneCharacterReplaceFilter()                     # 一文字しか無いひらがなとカタガナと英数字は削除\n",
        "                 ]\n",
        "\n",
        "analyzer = Analyzer(char_filters, tokenizer, token_filters)\n",
        "\n",
        "\n",
        "tokens_list = []\n",
        "raw_texts = []\n",
        "for text in texts:\n",
        "    # 文を分割し、単語をそれぞれ正規化する\n",
        "    text_ = [token.base_form for token in analyzer.analyze(text)]\n",
        "    if len(text_) > 0:\n",
        "        tokens_list.append([token.base_form for token in analyzer.analyze(text)])\n",
        "        raw_texts.append(text)\n",
        "\n",
        "# 正規化された際に一文字もない文の削除後の元テキストデータ\n",
        "raw_texts = [text_+'\\n' for text_ in raw_texts]\n",
        "with open('editted.txt', 'w', encoding='utf-8') as file:\n",
        "    file.writelines(raw_texts)\n",
        "\n",
        "# 単語リストの作成\n",
        "words = []\n",
        "for text in tokens_list:\n",
        "    words.extend([word+'\\n' for word in text if word != ''])\n",
        "\n",
        "with open('wordslist.txt', 'w', encoding='utf-8') as file:\n",
        "    file.writelines(words)\n",
        "    \n",
        "    \n"
      ],
      "execution_count": 0,
      "outputs": []
    },
    {
      "metadata": {
        "id": "zdfVnhMSAZLn",
        "colab_type": "code",
        "colab": {
          "base_uri": "https://localhost:8080/",
          "height": 153
        },
        "outputId": "66fab31f-4134-4d34-d715-cb794e6453e2"
      },
      "cell_type": "code",
      "source": [
        "!pip install wordcloud"
      ],
      "execution_count": 17,
      "outputs": [
        {
          "output_type": "stream",
          "text": [
            "Collecting wordcloud\n",
            "\u001b[?25l  Downloading https://files.pythonhosted.org/packages/ae/af/849edf14d573eba9c8082db898ff0d090428d9485371cc4fe21a66717ad2/wordcloud-1.5.0-cp36-cp36m-manylinux1_x86_64.whl (361kB)\n",
            "\u001b[K    100% |████████████████████████████████| 368kB 5.5MB/s \n",
            "\u001b[?25hRequirement already satisfied: pillow in /usr/local/lib/python3.6/dist-packages (from wordcloud) (4.0.0)\n",
            "Requirement already satisfied: numpy>=1.6.1 in /usr/local/lib/python3.6/dist-packages (from wordcloud) (1.14.5)\n",
            "Requirement already satisfied: olefile in /usr/local/lib/python3.6/dist-packages (from pillow->wordcloud) (0.45.1)\n",
            "Installing collected packages: wordcloud\n",
            "Successfully installed wordcloud-1.5.0\n"
          ],
          "name": "stdout"
        }
      ]
    },
    {
      "metadata": {
        "id": "sr25WI8s78nc",
        "colab_type": "code",
        "colab": {
          "base_uri": "https://localhost:8080/",
          "height": 451
        },
        "outputId": "8926f2bc-3d2f-4710-9b39-1101b43d7c3f"
      },
      "cell_type": "code",
      "source": [
        "from pathlib import Path\n",
        "from wordcloud import WordCloud\n",
        "import matplotlib.pyplot as plt\n",
        "import matplotlib\n",
        "\n",
        "\n",
        "\n",
        "with open('wordslist.txt', 'r', encoding='utf-8') as file:\n",
        "    text = file.readlines()\n",
        "text = ' '.join(text).replace('\\n', '')\n",
        "\n",
        "\n",
        "\n",
        "# ストップワードの設定\n",
        "# ここで設定した単語はWord Cloudに表示されない\n",
        "stop_words = [u'てる', u'いる', u'なる', u'れる', u'する', u'ある', u'こと', u'これ', u'さん', u'して', \\\n",
        "              u'くれる', u'やる', u'くださる', u'そう', u'せる', u'した', u'思う', \\\n",
        "              u'それ', u'ここ', u'ちゃん', u'くん', u'', u'て', u'に', u'を', u'は', u'の', u'が', u'と', u'た', u'し', u'で', \\\n",
        "              u'ない', u'も', u'な', u'い', u'か', u'ので', u'よう', u'', u'もの', u'もつ']\n",
        "\n",
        "matplotlib.rc('font', family='Noto Sans CJK JP')\n",
        "\n",
        "wordcloud = WordCloud(background_color=\"white\",\n",
        "                      width=900,\n",
        "                      height=500,\n",
        "                      stopwords=set(stop_words)).generate(text)\n",
        "\n",
        "plt.figure(figsize=(10, 8))\n",
        "plt.imshow(wordcloud)\n",
        "plt.axis(\"off\")\n",
        "plt.tight_layout()\n",
        "plt.savefig('cloud.png')\n",
        "plt.show()\n",
        "\n",
        "\n"
      ],
      "execution_count": 27,
      "outputs": [
        {
          "output_type": "stream",
          "text": [
            "/usr/local/lib/python3.6/dist-packages/matplotlib/font_manager.py:1320: UserWarning: findfont: Font family ['Noto Sans CJK JP'] not found. Falling back to DejaVu Sans\n",
            "  (prop.get_family(), self.defaultFamily[fontext]))\n"
          ],
          "name": "stderr"
        },
        {
          "output_type": "display_data",
          "data": {
            "image/png": "[encoded data removed]",
            "text/plain": [
              "<matplotlib.figure.Figure at 0x7fdf45bcbef0>"
            ]
          },
          "metadata": {
            "tags": []
          }
        }
      ]
    },
    {
      "metadata": {
        "id": "efLxe0x8Cp8P",
        "colab_type": "code",
        "colab": {}
      },
      "cell_type": "code",
      "source": [
        ""
      ],
      "execution_count": 0,
      "outputs": []
    },
    {
      "metadata": {
        "id": "Qgz5UGuSBY-z",
        "colab_type": "code",
        "colab": {}
      },
      "cell_type": "code",
      "source": [
        ""
      ],
      "execution_count": 0,
      "outputs": []
    }
  ]
}